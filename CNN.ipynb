{
 "cells": [
  {
   "cell_type": "code",
   "execution_count": 1,
   "metadata": {
    "colab": {
     "base_uri": "https://localhost:8080/",
     "height": 239
    },
    "colab_type": "code",
    "executionInfo": {
     "elapsed": 213690,
     "status": "ok",
     "timestamp": 1600632566947,
     "user": {
      "displayName": "ebru somuncu",
      "photoUrl": "",
      "userId": "03922034927184113780"
     },
     "user_tz": -180
    },
    "id": "N5bdMQe4hOjJ",
    "outputId": "f520659b-1b69-497a-9685-4c183dea36df"
   },
   "outputs": [
    {
     "name": "stdout",
     "output_type": "stream",
     "text": [
      "E: Package 'python-software-properties' has no installation candidate\n",
      "Selecting previously unselected package google-drive-ocamlfuse.\n",
      "(Reading database ... 144676 files and directories currently installed.)\n",
      "Preparing to unpack .../google-drive-ocamlfuse_0.7.22-0ubuntu3~ubuntu18.04.1_amd64.deb ...\n",
      "Unpacking google-drive-ocamlfuse (0.7.22-0ubuntu3~ubuntu18.04.1) ...\n",
      "Setting up google-drive-ocamlfuse (0.7.22-0ubuntu3~ubuntu18.04.1) ...\n",
      "Processing triggers for man-db (2.8.3-2ubuntu0.1) ...\n",
      "Please, open the following URL in a web browser: https://accounts.google.com/o/oauth2/auth?client_id=32555940559.apps.googleusercontent.com&redirect_uri=urn%3Aietf%3Awg%3Aoauth%3A2.0%3Aoob&scope=https%3A%2F%2Fwww.googleapis.com%2Fauth%2Fdrive&response_type=code&access_type=offline&approval_prompt=force\n",
      "··········\n",
      "Please, open the following URL in a web browser: https://accounts.google.com/o/oauth2/auth?client_id=32555940559.apps.googleusercontent.com&redirect_uri=urn%3Aietf%3Awg%3Aoauth%3A2.0%3Aoob&scope=https%3A%2F%2Fwww.googleapis.com%2Fauth%2Fdrive&response_type=code&access_type=offline&approval_prompt=force\n",
      "Please enter the verification code: Access token retrieved correctly.\n"
     ]
    }
   ],
   "source": [
    "!apt-get install -y -qq software-properties-common python-software-properties module-init-tools\n",
    "!add-apt-repository -y ppa:alessandro-strada/ppa 2>&1 > /dev/null\n",
    "!apt-get update -qq 2>&1 > /dev/null\n",
    "!apt-get -y install -qq google-drive-ocamlfuse fuse\n",
    "from google.colab import auth\n",
    "auth.authenticate_user()\n",
    "from oauth2client.client import GoogleCredentials\n",
    "creds = GoogleCredentials.get_application_default()\n",
    "import getpass\n",
    "!google-drive-ocamlfuse -headless -id={creds.client_id} -secret={creds.client_secret} < /dev/null 2>&1 | grep URL\n",
    "vcode = getpass.getpass()\n",
    "!echo {vcode} | google-drive-ocamlfuse -headless -id={creds.client_id} -secret={creds.client_secret}"
   ]
  },
  {
   "cell_type": "code",
   "execution_count": 2,
   "metadata": {
    "colab": {},
    "colab_type": "code",
    "executionInfo": {
     "elapsed": 1360,
     "status": "ok",
     "timestamp": 1600632850401,
     "user": {
      "displayName": "ebru somuncu",
      "photoUrl": "",
      "userId": "03922034927184113780"
     },
     "user_tz": -180
    },
    "id": "cxfTTRuFfN84"
   },
   "outputs": [],
   "source": [
    "!mkdir -p drive\n",
    "!google-drive-ocamlfuse drive\n"
   ]
  },
  {
   "cell_type": "code",
   "execution_count": 6,
   "metadata": {
    "colab": {},
    "colab_type": "code",
    "executionInfo": {
     "elapsed": 1352,
     "status": "ok",
     "timestamp": 1600633113713,
     "user": {
      "displayName": "ebru somuncu",
      "photoUrl": "",
      "userId": "03922034927184113780"
     },
     "user_tz": -180
    },
    "id": "fZ9uZxCGfQ5F"
   },
   "outputs": [],
   "source": [
    "import sys\n",
    "sys.path.insert(0,'drive/word')"
   ]
  },
  {
   "cell_type": "code",
   "execution_count": null,
   "metadata": {
    "colab": {},
    "colab_type": "code",
    "id": "YMqp8L7mgoPh"
   },
   "outputs": [],
   "source": [
    "!pip install keras"
   ]
  },
  {
   "cell_type": "code",
   "execution_count": 8,
   "metadata": {
    "colab": {},
    "colab_type": "code",
    "executionInfo": {
     "elapsed": 720,
     "status": "ok",
     "timestamp": 1600633120088,
     "user": {
      "displayName": "ebru somuncu",
      "photoUrl": "",
      "userId": "03922034927184113780"
     },
     "user_tz": -180
    },
    "id": "1gSU09a7fz9K"
   },
   "outputs": [],
   "source": [
    "import os\n",
    "import pandas as pd\n",
    "import numpy as np\n",
    "import matplotlib.pyplot as plt\n",
    "import glob\n"
   ]
  },
  {
   "cell_type": "markdown",
   "metadata": {
    "colab_type": "text",
    "id": "DKkI0ua9cZt6"
   },
   "source": [
    "**Drive dan dosya alma**"
   ]
  },
  {
   "cell_type": "code",
   "execution_count": 9,
   "metadata": {
    "colab": {},
    "colab_type": "code",
    "executionInfo": {
     "elapsed": 7735,
     "status": "ok",
     "timestamp": 1600633131505,
     "user": {
      "displayName": "ebru somuncu",
      "photoUrl": "",
      "userId": "03922034927184113780"
     },
     "user_tz": -180
    },
    "id": "t4aDhVAxgV-F"
   },
   "outputs": [],
   "source": [
    "!pip install -U -q PyDrive\n",
    " \n",
    "from pydrive.auth import GoogleAuth\n",
    " \n",
    "from pydrive.drive import GoogleDrive\n",
    " \n",
    "from google.colab import auth\n",
    " \n",
    "from oauth2client.client import GoogleCredentials\n",
    " \n",
    "auth.authenticate_user()\n",
    " \n",
    "gauth = GoogleAuth()\n",
    " \n",
    "gauth.credentials = GoogleCredentials.get_application_default()\n",
    " \n",
    "drive = GoogleDrive(gauth)"
   ]
  },
  {
   "cell_type": "markdown",
   "metadata": {
    "colab_type": "text",
    "id": "-KVtZmm6cixK"
   },
   "source": [
    "**xml dosyasını alma**"
   ]
  },
  {
   "cell_type": "code",
   "execution_count": 10,
   "metadata": {
    "colab": {
     "base_uri": "https://localhost:8080/",
     "height": 274
    },
    "colab_type": "code",
    "executionInfo": {
     "elapsed": 7879,
     "status": "ok",
     "timestamp": 1600633140208,
     "user": {
      "displayName": "ebru somuncu",
      "photoUrl": "",
      "userId": "03922034927184113780"
     },
     "user_tz": -180
    },
    "id": "xTMAj-bSgYkj",
    "outputId": "3bcfcaa4-ba26-429d-fc1e-563078a17c2d"
   },
   "outputs": [
    {
     "name": "stdout",
     "output_type": "stream",
     "text": [
      "              filename  category\n",
      "0         word/1/1.jpg      self\n",
      "1         word/1/2.jpg  adhesive\n",
      "2         word/1/3.jpg   address\n",
      "3         word/1/4.jpg    labels\n",
      "4         word/1/5.jpg        36\n",
      "...                ...       ...\n",
      "1151  word/12/1152.jpg    TOILET\n",
      "1152  word/12/1153.jpg        OF\n",
      "1153  word/12/1154.jpg     ORDER\n",
      "1154  word/12/1155.jpg       OUT\n",
      "1155  word/12/1156.jpg     SORRY\n",
      "\n",
      "[1156 rows x 2 columns]\n"
     ]
    }
   ],
   "source": [
    "\n",
    "from google.colab import files\n",
    " \n",
    "file_id = '1OsMnlWkr3tbKdi6XPwRms1b0bdwprc3_'\n",
    " \n",
    "downloaded = drive.CreateFile({'id': file_id})\n",
    " \n",
    "downloaded.GetContentFile('word.xml')\n",
    " \n",
    "import pandas as pd\n",
    "import xml.etree.ElementTree as ET \n",
    "\n",
    "xtree = ET.parse('word.xml')\n",
    "\n",
    "xroot = xtree.getroot() \n",
    "\n",
    "df_cols = [\"filename\", \"category\"]\n",
    "\n",
    "out_df = pd.DataFrame(columns = df_cols)\n",
    "\n",
    "for node in xroot: \n",
    "\n",
    "    s_path = node.attrib.get(\"file\")\n",
    "\n",
    "    s_tag = node.attrib.get(\"tag\")\n",
    "\n",
    "    out_df = out_df.append(pd.Series([s_path, s_tag],\n",
    "\n",
    "                                     index = df_cols), \n",
    "\n",
    "                           ignore_index = True)\n",
    "print(out_df)"
   ]
  },
  {
   "cell_type": "code",
   "execution_count": 11,
   "metadata": {
    "colab": {
     "base_uri": "https://localhost:8080/",
     "height": 237
    },
    "colab_type": "code",
    "executionInfo": {
     "elapsed": 1090,
     "status": "ok",
     "timestamp": 1600633143429,
     "user": {
      "displayName": "ebru somuncu",
      "photoUrl": "",
      "userId": "03922034927184113780"
     },
     "user_tz": -180
    },
    "id": "u-Vnm3qxjGw4",
    "outputId": "29c9dd12-8683-437b-b5b2-e852fed812bc"
   },
   "outputs": [
    {
     "data": {
      "text/plain": [
       "of          12\n",
       "the         11\n",
       "and         10\n",
       "The          9\n",
       "a            9\n",
       "            ..\n",
       "yds          1\n",
       "Closed       1\n",
       "pleaes       1\n",
       "59           1\n",
       "EMMERICH     1\n",
       "Name: category, Length: 878, dtype: int64"
      ]
     },
     "execution_count": 11,
     "metadata": {
      "tags": []
     },
     "output_type": "execute_result"
    }
   ],
   "source": [
    "out_df[\"category\"].value_counts()"
   ]
  },
  {
   "cell_type": "code",
   "execution_count": 12,
   "metadata": {
    "colab": {
     "base_uri": "https://localhost:8080/",
     "height": 348
    },
    "colab_type": "code",
    "executionInfo": {
     "elapsed": 3722,
     "status": "ok",
     "timestamp": 1600633149331,
     "user": {
      "displayName": "ebru somuncu",
      "photoUrl": "",
      "userId": "03922034927184113780"
     },
     "user_tz": -180
    },
    "id": "iYvcB0vbhmfG",
    "outputId": "d194cb58-8045-48c8-dca9-12b688bf5d8e"
   },
   "outputs": [
    {
     "name": "stdout",
     "output_type": "stream",
     "text": [
      "Model: \"sequential\"\n",
      "_________________________________________________________________\n",
      "Layer (type)                 Output Shape              Param #   \n",
      "=================================================================\n",
      "conv2d (Conv2D)              (None, 126, 30, 64)       1792      \n",
      "_________________________________________________________________\n",
      "max_pooling2d (MaxPooling2D) (None, 63, 15, 64)        0         \n",
      "_________________________________________________________________\n",
      "flatten (Flatten)            (None, 60480)             0         \n",
      "_________________________________________________________________\n",
      "dense (Dense)                (None, 1024)              61932544  \n",
      "_________________________________________________________________\n",
      "dense_1 (Dense)              (None, 878)               899950    \n",
      "=================================================================\n",
      "Total params: 62,834,286\n",
      "Trainable params: 62,834,286\n",
      "Non-trainable params: 0\n",
      "_________________________________________________________________\n"
     ]
    }
   ],
   "source": [
    "from keras.models import Sequential\n",
    "from keras.layers import Conv2D, MaxPooling2D, Dropout, Flatten, Dense, Activation\n",
    "model = Sequential()\n",
    "model.add(Conv2D(64, (3, 3), activation='relu',use_bias=True, input_shape=(128,32, 3)))\n",
    "model.add(MaxPooling2D(pool_size=(2, 2)))\n",
    "model.add(Flatten())\n",
    "model.add(Dense(1024, activation = 'relu',use_bias=True))\n",
    "model.add(Dense(878, activation = 'sigmoid',use_bias=True))\n",
    "model.compile(loss='categorical_crossentropy', optimizer='adam', metrics=['accuracy'])\n",
    "model.summary()"
   ]
  },
  {
   "cell_type": "code",
   "execution_count": 13,
   "metadata": {
    "colab": {
     "base_uri": "https://localhost:8080/",
     "height": 35
    },
    "colab_type": "code",
    "executionInfo": {
     "elapsed": 566876,
     "status": "ok",
     "timestamp": 1600633719842,
     "user": {
      "displayName": "ebru somuncu",
      "photoUrl": "",
      "userId": "03922034927184113780"
     },
     "user_tz": -180
    },
    "id": "bHhNSPIphpin",
    "outputId": "00b09943-d450-41ab-91fb-283f96d4dd5f"
   },
   "outputs": [
    {
     "name": "stdout",
     "output_type": "stream",
     "text": [
      "Found 1156 validated image filenames belonging to 878 classes.\n"
     ]
    }
   ],
   "source": [
    "from keras.preprocessing.image import ImageDataGenerator, load_img\n",
    "batch_size=100\n",
    "train_datagen = ImageDataGenerator(\n",
    "    rotation_range=15,\n",
    "    rescale=1./255,\n",
    "    shear_range=0.1,\n",
    "    zoom_range=0.0,\n",
    "    horizontal_flip=True,\n",
    "    width_shift_range=0.1,\n",
    "    height_shift_range=0.1\n",
    ")\n",
    "#Data augmentation\n",
    "train_generator = train_datagen.flow_from_dataframe(\n",
    "    out_df, \n",
    "    \"/content/drive\",\n",
    "    x_col='filename',\n",
    "    y_col='category',\n",
    "    target_size=(128,32),\n",
    "    class_mode='categorical',\n",
    "    batch_size=batch_size\n",
    ")\n"
   ]
  },
  {
   "cell_type": "markdown",
   "metadata": {
    "colab_type": "text",
    "id": "aPhyPOkCcrnv"
   },
   "source": [
    "**Model Oluşturma**"
   ]
  },
  {
   "cell_type": "code",
   "execution_count": null,
   "metadata": {
    "colab": {
     "base_uri": "https://localhost:8080/",
     "height": 1000
    },
    "colab_type": "code",
    "id": "VhRJuF4Rjmr5",
    "outputId": "558bef91-12ed-46b7-8bec-71e62b1481f7"
   },
   "outputs": [
    {
     "name": "stdout",
     "output_type": "stream",
     "text": [
      "Epoch 1/60\n",
      "11/11 [==============================] - 14s 1s/step - loss: 0.8177 - accuracy: 0.7348\n",
      "Epoch 2/60\n",
      "11/11 [==============================] - 14s 1s/step - loss: 0.8030 - accuracy: 0.7472\n",
      "Epoch 3/60\n",
      "11/11 [==============================] - 14s 1s/step - loss: 0.7691 - accuracy: 0.7509\n",
      "Epoch 4/60\n",
      "11/11 [==============================] - 14s 1s/step - loss: 0.7175 - accuracy: 0.7784\n",
      "Epoch 5/60\n",
      "11/11 [==============================] - 14s 1s/step - loss: 0.7548 - accuracy: 0.7462\n",
      "Epoch 6/60\n",
      "11/11 [==============================] - 14s 1s/step - loss: 0.7390 - accuracy: 0.7699\n",
      "Epoch 7/60\n",
      "11/11 [==============================] - 14s 1s/step - loss: 0.7577 - accuracy: 0.7557\n",
      "Epoch 8/60\n",
      "11/11 [==============================] - 14s 1s/step - loss: 0.7382 - accuracy: 0.7614\n",
      "Epoch 9/60\n",
      "11/11 [==============================] - 14s 1s/step - loss: 0.6888 - accuracy: 0.7775\n",
      "Epoch 10/60\n",
      "11/11 [==============================] - 14s 1s/step - loss: 0.6591 - accuracy: 0.7850\n",
      "Epoch 11/60\n",
      "11/11 [==============================] - 15s 1s/step - loss: 0.6591 - accuracy: 0.7864\n",
      "Epoch 12/60\n",
      "11/11 [==============================] - 15s 1s/step - loss: 0.7127 - accuracy: 0.7689\n",
      "Epoch 13/60\n",
      "11/11 [==============================] - 14s 1s/step - loss: 0.6944 - accuracy: 0.7708\n",
      "Epoch 14/60\n",
      "11/11 [==============================] - 14s 1s/step - loss: 0.6327 - accuracy: 0.7831\n",
      "Epoch 15/60\n",
      "11/11 [==============================] - 14s 1s/step - loss: 0.6351 - accuracy: 0.8040\n",
      "Epoch 16/60\n",
      "11/11 [==============================] - 14s 1s/step - loss: 0.6382 - accuracy: 0.7907\n",
      "Epoch 17/60\n",
      "11/11 [==============================] - 15s 1s/step - loss: 0.6344 - accuracy: 0.7991\n",
      "Epoch 18/60\n",
      "11/11 [==============================] - 14s 1s/step - loss: 0.5952 - accuracy: 0.8040\n",
      "Epoch 19/60\n",
      "11/11 [==============================] - 14s 1s/step - loss: 0.5914 - accuracy: 0.8144\n",
      "Epoch 20/60\n",
      "11/11 [==============================] - 14s 1s/step - loss: 0.6068 - accuracy: 0.7983\n",
      "Epoch 21/60\n",
      "11/11 [==============================] - 14s 1s/step - loss: 0.6357 - accuracy: 0.7907\n",
      "Epoch 22/60\n",
      "11/11 [==============================] - 15s 1s/step - loss: 0.5724 - accuracy: 0.8182\n",
      "Epoch 23/60\n",
      "11/11 [==============================] - 14s 1s/step - loss: 0.5520 - accuracy: 0.8191\n",
      "Epoch 24/60\n",
      "11/11 [==============================] - 14s 1s/step - loss: 0.5982 - accuracy: 0.8030\n",
      "Epoch 25/60\n",
      "11/11 [==============================] - 14s 1s/step - loss: 0.5660 - accuracy: 0.8163\n",
      "Epoch 26/60\n",
      "11/11 [==============================] - 14s 1s/step - loss: 0.5847 - accuracy: 0.8144\n",
      "Epoch 27/60\n",
      "11/11 [==============================] - 14s 1s/step - loss: 0.5147 - accuracy: 0.8210\n",
      "Epoch 28/60\n",
      "11/11 [==============================] - 14s 1s/step - loss: 0.4672 - accuracy: 0.8371\n",
      "Epoch 29/60\n",
      "11/11 [==============================] - 14s 1s/step - loss: 0.5352 - accuracy: 0.8239\n",
      "Epoch 30/60\n",
      "11/11 [==============================] - 14s 1s/step - loss: 0.5457 - accuracy: 0.8191\n",
      "Epoch 31/60\n",
      "11/11 [==============================] - 14s 1s/step - loss: 0.4890 - accuracy: 0.8391\n",
      "Epoch 32/60\n",
      "11/11 [==============================] - 14s 1s/step - loss: 0.4568 - accuracy: 0.8447\n",
      "Epoch 33/60\n",
      "11/11 [==============================] - 14s 1s/step - loss: 0.4735 - accuracy: 0.8608\n",
      "Epoch 34/60\n",
      "11/11 [==============================] - 14s 1s/step - loss: 0.4799 - accuracy: 0.8419\n",
      "Epoch 35/60\n",
      " 5/11 [============>.................] - ETA: 6s - loss: 0.4179 - accuracy: 0.8772"
     ]
    }
   ],
   "source": [
    "total_train=1156\n",
    "\n",
    "history = model.fit_generator(\n",
    "   train_generator, \n",
    "   epochs =60, \n",
    "   steps_per_epoch=total_train//batch_size,\n",
    ")"
   ]
  },
  {
   "cell_type": "code",
   "execution_count": null,
   "metadata": {
    "colab": {},
    "colab_type": "code",
    "id": "Zs7Gbo3LQ2vu"
   },
   "outputs": [],
   "source": []
  }
 ],
 "metadata": {
  "colab": {
   "authorship_tag": "ABX9TyPdaVBQO/XOO314/khxo81C",
   "collapsed_sections": [],
   "name": "CNN.ipynb",
   "provenance": []
  },
  "kernelspec": {
   "display_name": "Python 3",
   "language": "python",
   "name": "python3"
  },
  "language_info": {
   "codemirror_mode": {
    "name": "ipython",
    "version": 3
   },
   "file_extension": ".py",
   "mimetype": "text/x-python",
   "name": "python",
   "nbconvert_exporter": "python",
   "pygments_lexer": "ipython3",
   "version": "3.7.3"
  }
 },
 "nbformat": 4,
 "nbformat_minor": 1
}
